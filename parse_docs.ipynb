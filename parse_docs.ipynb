{
 "cells": [
  {
   "cell_type": "markdown",
   "metadata": {},
   "source": [
    "Install dependencies"
   ]
  },
  {
   "cell_type": "code",
   "execution_count": 2,
   "metadata": {},
   "outputs": [],
   "source": [
    "! pip install -r requirements.txt --quiet"
   ]
  },
  {
   "cell_type": "markdown",
   "metadata": {},
   "source": [
    "Remove time codes from text"
   ]
  },
  {
   "cell_type": "code",
   "execution_count": 8,
   "metadata": {},
   "outputs": [],
   "source": [
    "import re\n",
    "\n",
    "\n",
    "def remove_time_codes(file_path, new_file_path):\n",
    "    with open(file_path, 'r', encoding='utf-8') as file:\n",
    "        text = file.read()\n",
    "    time_code_pattern = r'\\d{1,2}:\\d{2}(?::\\d{2})?'\n",
    "    cleaned_text = re.sub(time_code_pattern, '', text)\n",
    "    cleaned_text = re.sub(r'\\s+', ' ', cleaned_text).strip()\n",
    "    with open(new_file_path, 'w', encoding='utf-8') as file:\n",
    "        file.write(cleaned_text)"
   ]
  },
  {
   "cell_type": "code",
   "execution_count": 13,
   "metadata": {},
   "outputs": [],
   "source": [
    "import os\n",
    "\n",
    "# yt_path = os.path.join('data', 'lect_1', 'yt_lect_1.txt')\n",
    "# yt_path = os.path.join('data', 'lect_1', 'seminar_1.txt')\n",
    "# yt_path = os.path.join('data', 'lect_2', 'yt_lect_2.txt')\n",
    "# yt_path = os.path.join('data', 'lect_2', 'seminar_2.txt')\n",
    "yt_path = os.path.join('data', 'lect_3', 'yt_lect_3.txt')\n",
    "remove_time_codes(yt_path, yt_path)"
   ]
  },
  {
   "cell_type": "markdown",
   "metadata": {},
   "source": [
    "Extract text from pdf using ocr"
   ]
  },
  {
   "cell_type": "code",
   "execution_count": 5,
   "metadata": {},
   "outputs": [],
   "source": [
    "! pip install pypdf2 numpy opencv-python pytesseract pdf2image Pillow --quiet"
   ]
  },
  {
   "cell_type": "code",
   "execution_count": 3,
   "metadata": {},
   "outputs": [
    {
     "name": "stdout",
     "output_type": "stream",
     "text": [
      "Text extraction completed and saved\n"
     ]
    }
   ],
   "source": [
    "import pytesseract\n",
    "from pdf2image import convert_from_path\n",
    "import os\n",
    "\n",
    "def extract_text_from_pdf(pdf_path, password=None):\n",
    "    pages = convert_from_path(pdf_path, 400, userpw=password)\n",
    "    \n",
    "    all_text = []\n",
    "    \n",
    "    for page_number, page_image in enumerate(pages):\n",
    "        # Use Tesseract OCR to extract text from each image, specifying both languages\n",
    "        text = pytesseract.image_to_string(page_image, lang='ukr+eng')\n",
    "        all_text.append(f\"Page {page_number + 1}:\\n{text}\\n{'-' * 50}\\n\")\n",
    "    \n",
    "    # Combine text from all pages\n",
    "    return \"\\n\".join(all_text)\n",
    "\n",
    "# Example usage\n",
    "\n",
    "pdf_path = os.path.join('raw_data', 'lect_3.pdf')\n",
    "extracted_text = extract_text_from_pdf(pdf_path, \"N2ZV68F1RA\")\n",
    "\n",
    "# Save the extracted text to a file\n",
    "save_path = os.path.join('data', 'lect_3', 'pdf_lect_3_ocr.txt')\n",
    "with open(save_path, 'w', encoding='utf-8') as file:\n",
    "    file.write(extracted_text)\n",
    "\n",
    "print(\"Text extraction completed and saved\")"
   ]
  },
  {
   "cell_type": "markdown",
   "metadata": {},
   "source": [
    "Extract text from pdf"
   ]
  },
  {
   "cell_type": "code",
   "execution_count": 6,
   "metadata": {},
   "outputs": [],
   "source": [
    "import PyPDF2\n",
    "import os\n",
    "\n",
    "\n",
    "def extract_text_from_pdf(pdf_path):\n",
    "    text = ''\n",
    "    with open(pdf_path, 'rb') as pdf_file:\n",
    "        pdf_reader = PyPDF2.PdfReader(pdf_file, password=\"N2ZV68F1RA\")\n",
    "        for page in range(len(pdf_reader.pages)):\n",
    "            text += pdf_reader.pages[page].extract_text() + '\\n'\n",
    "    return text\n",
    "\n",
    "pdf_path = os.path.join('raw_data', 'lect_3.pdf')\n",
    "pdf_text = extract_text_from_pdf(pdf_path)\n",
    "\n",
    "save_path = os.path.join('data', 'lect_3', 'pdf_lect_3.txt')\n",
    "with open(save_path, 'w', encoding='utf-8') as file:\n",
    "    file.write(extracted_text)"
   ]
  }
 ],
 "metadata": {
  "kernelspec": {
   "display_name": ".venv",
   "language": "python",
   "name": "python3"
  },
  "language_info": {
   "codemirror_mode": {
    "name": "ipython",
    "version": 3
   },
   "file_extension": ".py",
   "mimetype": "text/x-python",
   "name": "python",
   "nbconvert_exporter": "python",
   "pygments_lexer": "ipython3",
   "version": "3.12.3"
  }
 },
 "nbformat": 4,
 "nbformat_minor": 2
}
