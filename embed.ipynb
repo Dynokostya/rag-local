{
 "cells": [
  {
   "cell_type": "markdown",
   "metadata": {},
   "source": [
    "Install dependencies"
   ]
  },
  {
   "cell_type": "code",
   "execution_count": 97,
   "metadata": {},
   "outputs": [],
   "source": [
    "! pip install -r requirements.txt --quiet"
   ]
  },
  {
   "cell_type": "markdown",
   "metadata": {},
   "source": [
    "Load documents and split into chunks"
   ]
  },
  {
   "cell_type": "code",
   "execution_count": 78,
   "metadata": {},
   "outputs": [
    {
     "data": {
      "text/plain": [
       "804"
      ]
     },
     "execution_count": 78,
     "metadata": {},
     "output_type": "execute_result"
    }
   ],
   "source": [
    "from langchain.document_loaders import DirectoryLoader\n",
    "from langchain.text_splitter import RecursiveCharacterTextSplitter\n",
    "\n",
    "\n",
    "loader = DirectoryLoader(\"data/\")\n",
    "text_splitter = RecursiveCharacterTextSplitter(chunk_size=1024, chunk_overlap=150)\n",
    "documents = loader.load()\n",
    "texts = text_splitter.split_documents(documents)\n",
    "len(texts)"
   ]
  },
  {
   "cell_type": "markdown",
   "metadata": {},
   "source": [
    "Semantic chunking"
   ]
  },
  {
   "cell_type": "code",
   "execution_count": 98,
   "metadata": {},
   "outputs": [],
   "source": [
    "from langchain_experimental.text_splitter import SemanticChunker\n",
    "from langchain_openai.embeddings import AzureOpenAIEmbeddings\n",
    "from config import azure_openai_embedding_deployment\n",
    "\n",
    "embeddings = AzureOpenAIEmbeddings(\n",
    "    deployment=azure_openai_embedding_deployment,\n",
    "    chunk_size=1024\n",
    ")\n",
    "\n",
    "loader = DirectoryLoader(\"data/\")\n",
    "documents = loader.load()"
   ]
  },
  {
   "cell_type": "code",
   "execution_count": 99,
   "metadata": {},
   "outputs": [],
   "source": [
    "# documents[0].page_content\n",
    "text_splitter = SemanticChunker(embeddings=embeddings,\n",
    "                                breakpoint_threshold_type='interquartile')\n",
    "\n",
    "chunks = text_splitter.create_documents([documents[i].page_content for i in range(len(documents))])"
   ]
  },
  {
   "cell_type": "code",
   "execution_count": 100,
   "metadata": {},
   "outputs": [
    {
     "data": {
      "text/plain": [
       "121"
      ]
     },
     "execution_count": 100,
     "metadata": {},
     "output_type": "execute_result"
    }
   ],
   "source": [
    "len(chunks)"
   ]
  },
  {
   "cell_type": "markdown",
   "metadata": {},
   "source": [
    "Create embeddings and save to folder"
   ]
  },
  {
   "cell_type": "code",
   "execution_count": 107,
   "metadata": {},
   "outputs": [
    {
     "ename": "OperationalError",
     "evalue": "no such table: embeddings_queue_config",
     "output_type": "error",
     "traceback": [
      "\u001b[0;31m---------------------------------------------------------------------------\u001b[0m",
      "\u001b[0;31mOperationalError\u001b[0m                          Traceback (most recent call last)",
      "Cell \u001b[0;32mIn[107], line 23\u001b[0m\n\u001b[1;32m     20\u001b[0m     os\u001b[38;5;241m.\u001b[39mmakedirs(persist_directory)\n\u001b[1;32m     22\u001b[0m \u001b[38;5;66;03m# vectorstore = Chroma.from_documents(texts, embeddings, persist_directory=persist_directory)\u001b[39;00m\n\u001b[0;32m---> 23\u001b[0m vectorstore \u001b[38;5;241m=\u001b[39m \u001b[43mChroma\u001b[49m\u001b[38;5;241;43m.\u001b[39;49m\u001b[43mfrom_documents\u001b[49m\u001b[43m(\u001b[49m\u001b[43mchunks\u001b[49m\u001b[43m,\u001b[49m\u001b[43m \u001b[49m\u001b[43membeddings\u001b[49m\u001b[43m,\u001b[49m\u001b[43m \u001b[49m\u001b[43mpersist_directory\u001b[49m\u001b[38;5;241;43m=\u001b[39;49m\u001b[43mpersist_directory\u001b[49m\u001b[43m)\u001b[49m\n\u001b[1;32m     24\u001b[0m \u001b[38;5;66;03m# db = Chroma()\u001b[39;00m\n\u001b[1;32m     25\u001b[0m \u001b[38;5;66;03m# db.from_documents\u001b[39;00m\n",
      "File \u001b[0;32m~/Documents/Projects/rag-local/.venv/lib/python3.12/site-packages/langchain_chroma/vectorstores.py:1128\u001b[0m, in \u001b[0;36mChroma.from_documents\u001b[0;34m(cls, documents, embedding, ids, collection_name, persist_directory, client_settings, client, collection_metadata, **kwargs)\u001b[0m\n\u001b[1;32m   1126\u001b[0m texts \u001b[38;5;241m=\u001b[39m [doc\u001b[38;5;241m.\u001b[39mpage_content \u001b[38;5;28;01mfor\u001b[39;00m doc \u001b[38;5;129;01min\u001b[39;00m documents]\n\u001b[1;32m   1127\u001b[0m metadatas \u001b[38;5;241m=\u001b[39m [doc\u001b[38;5;241m.\u001b[39mmetadata \u001b[38;5;28;01mfor\u001b[39;00m doc \u001b[38;5;129;01min\u001b[39;00m documents]\n\u001b[0;32m-> 1128\u001b[0m \u001b[38;5;28;01mreturn\u001b[39;00m \u001b[38;5;28;43mcls\u001b[39;49m\u001b[38;5;241;43m.\u001b[39;49m\u001b[43mfrom_texts\u001b[49m\u001b[43m(\u001b[49m\n\u001b[1;32m   1129\u001b[0m \u001b[43m    \u001b[49m\u001b[43mtexts\u001b[49m\u001b[38;5;241;43m=\u001b[39;49m\u001b[43mtexts\u001b[49m\u001b[43m,\u001b[49m\n\u001b[1;32m   1130\u001b[0m \u001b[43m    \u001b[49m\u001b[43membedding\u001b[49m\u001b[38;5;241;43m=\u001b[39;49m\u001b[43membedding\u001b[49m\u001b[43m,\u001b[49m\n\u001b[1;32m   1131\u001b[0m \u001b[43m    \u001b[49m\u001b[43mmetadatas\u001b[49m\u001b[38;5;241;43m=\u001b[39;49m\u001b[43mmetadatas\u001b[49m\u001b[43m,\u001b[49m\n\u001b[1;32m   1132\u001b[0m \u001b[43m    \u001b[49m\u001b[43mids\u001b[49m\u001b[38;5;241;43m=\u001b[39;49m\u001b[43mids\u001b[49m\u001b[43m,\u001b[49m\n\u001b[1;32m   1133\u001b[0m \u001b[43m    \u001b[49m\u001b[43mcollection_name\u001b[49m\u001b[38;5;241;43m=\u001b[39;49m\u001b[43mcollection_name\u001b[49m\u001b[43m,\u001b[49m\n\u001b[1;32m   1134\u001b[0m \u001b[43m    \u001b[49m\u001b[43mpersist_directory\u001b[49m\u001b[38;5;241;43m=\u001b[39;49m\u001b[43mpersist_directory\u001b[49m\u001b[43m,\u001b[49m\n\u001b[1;32m   1135\u001b[0m \u001b[43m    \u001b[49m\u001b[43mclient_settings\u001b[49m\u001b[38;5;241;43m=\u001b[39;49m\u001b[43mclient_settings\u001b[49m\u001b[43m,\u001b[49m\n\u001b[1;32m   1136\u001b[0m \u001b[43m    \u001b[49m\u001b[43mclient\u001b[49m\u001b[38;5;241;43m=\u001b[39;49m\u001b[43mclient\u001b[49m\u001b[43m,\u001b[49m\n\u001b[1;32m   1137\u001b[0m \u001b[43m    \u001b[49m\u001b[43mcollection_metadata\u001b[49m\u001b[38;5;241;43m=\u001b[39;49m\u001b[43mcollection_metadata\u001b[49m\u001b[43m,\u001b[49m\n\u001b[1;32m   1138\u001b[0m \u001b[43m    \u001b[49m\u001b[38;5;241;43m*\u001b[39;49m\u001b[38;5;241;43m*\u001b[39;49m\u001b[43mkwargs\u001b[49m\u001b[43m,\u001b[49m\n\u001b[1;32m   1139\u001b[0m \u001b[43m\u001b[49m\u001b[43m)\u001b[49m\n",
      "File \u001b[0;32m~/Documents/Projects/rag-local/.venv/lib/python3.12/site-packages/langchain_chroma/vectorstores.py:1061\u001b[0m, in \u001b[0;36mChroma.from_texts\u001b[0;34m(cls, texts, embedding, metadatas, ids, collection_name, persist_directory, client_settings, client, collection_metadata, **kwargs)\u001b[0m\n\u001b[1;32m   1025\u001b[0m \u001b[38;5;129m@classmethod\u001b[39m\n\u001b[1;32m   1026\u001b[0m \u001b[38;5;28;01mdef\u001b[39;00m \u001b[38;5;21mfrom_texts\u001b[39m(\n\u001b[1;32m   1027\u001b[0m     \u001b[38;5;28mcls\u001b[39m: Type[Chroma],\n\u001b[0;32m   (...)\u001b[0m\n\u001b[1;32m   1037\u001b[0m     \u001b[38;5;241m*\u001b[39m\u001b[38;5;241m*\u001b[39mkwargs: Any,\n\u001b[1;32m   1038\u001b[0m ) \u001b[38;5;241m-\u001b[39m\u001b[38;5;241m>\u001b[39m Chroma:\n\u001b[1;32m   1039\u001b[0m \u001b[38;5;250m    \u001b[39m\u001b[38;5;124;03m\"\"\"Create a Chroma vectorstore from a raw documents.\u001b[39;00m\n\u001b[1;32m   1040\u001b[0m \n\u001b[1;32m   1041\u001b[0m \u001b[38;5;124;03m    If a persist_directory is specified, the collection will be persisted there.\u001b[39;00m\n\u001b[0;32m   (...)\u001b[0m\n\u001b[1;32m   1059\u001b[0m \u001b[38;5;124;03m        Chroma: Chroma vectorstore.\u001b[39;00m\n\u001b[1;32m   1060\u001b[0m \u001b[38;5;124;03m    \"\"\"\u001b[39;00m\n\u001b[0;32m-> 1061\u001b[0m     chroma_collection \u001b[38;5;241m=\u001b[39m \u001b[38;5;28;43mcls\u001b[39;49m\u001b[43m(\u001b[49m\n\u001b[1;32m   1062\u001b[0m \u001b[43m        \u001b[49m\u001b[43mcollection_name\u001b[49m\u001b[38;5;241;43m=\u001b[39;49m\u001b[43mcollection_name\u001b[49m\u001b[43m,\u001b[49m\n\u001b[1;32m   1063\u001b[0m \u001b[43m        \u001b[49m\u001b[43membedding_function\u001b[49m\u001b[38;5;241;43m=\u001b[39;49m\u001b[43membedding\u001b[49m\u001b[43m,\u001b[49m\n\u001b[1;32m   1064\u001b[0m \u001b[43m        \u001b[49m\u001b[43mpersist_directory\u001b[49m\u001b[38;5;241;43m=\u001b[39;49m\u001b[43mpersist_directory\u001b[49m\u001b[43m,\u001b[49m\n\u001b[1;32m   1065\u001b[0m \u001b[43m        \u001b[49m\u001b[43mclient_settings\u001b[49m\u001b[38;5;241;43m=\u001b[39;49m\u001b[43mclient_settings\u001b[49m\u001b[43m,\u001b[49m\n\u001b[1;32m   1066\u001b[0m \u001b[43m        \u001b[49m\u001b[43mclient\u001b[49m\u001b[38;5;241;43m=\u001b[39;49m\u001b[43mclient\u001b[49m\u001b[43m,\u001b[49m\n\u001b[1;32m   1067\u001b[0m \u001b[43m        \u001b[49m\u001b[43mcollection_metadata\u001b[49m\u001b[38;5;241;43m=\u001b[39;49m\u001b[43mcollection_metadata\u001b[49m\u001b[43m,\u001b[49m\n\u001b[1;32m   1068\u001b[0m \u001b[43m        \u001b[49m\u001b[38;5;241;43m*\u001b[39;49m\u001b[38;5;241;43m*\u001b[39;49m\u001b[43mkwargs\u001b[49m\u001b[43m,\u001b[49m\n\u001b[1;32m   1069\u001b[0m \u001b[43m    \u001b[49m\u001b[43m)\u001b[49m\n\u001b[1;32m   1070\u001b[0m     \u001b[38;5;28;01mif\u001b[39;00m ids \u001b[38;5;129;01mis\u001b[39;00m \u001b[38;5;28;01mNone\u001b[39;00m:\n\u001b[1;32m   1071\u001b[0m         ids \u001b[38;5;241m=\u001b[39m [\u001b[38;5;28mstr\u001b[39m(uuid\u001b[38;5;241m.\u001b[39muuid4()) \u001b[38;5;28;01mfor\u001b[39;00m _ \u001b[38;5;129;01min\u001b[39;00m texts]\n",
      "File \u001b[0;32m~/Documents/Projects/rag-local/.venv/lib/python3.12/site-packages/langchain_chroma/vectorstores.py:313\u001b[0m, in \u001b[0;36mChroma.__init__\u001b[0;34m(self, collection_name, embedding_function, persist_directory, client_settings, collection_metadata, client, relevance_score_fn, create_collection_if_not_exists)\u001b[0m\n\u001b[1;32m    311\u001b[0m         _client_settings \u001b[38;5;241m=\u001b[39m chromadb\u001b[38;5;241m.\u001b[39mconfig\u001b[38;5;241m.\u001b[39mSettings()\n\u001b[1;32m    312\u001b[0m     \u001b[38;5;28mself\u001b[39m\u001b[38;5;241m.\u001b[39m_client_settings \u001b[38;5;241m=\u001b[39m _client_settings\n\u001b[0;32m--> 313\u001b[0m     \u001b[38;5;28mself\u001b[39m\u001b[38;5;241m.\u001b[39m_client \u001b[38;5;241m=\u001b[39m \u001b[43mchromadb\u001b[49m\u001b[38;5;241;43m.\u001b[39;49m\u001b[43mClient\u001b[49m\u001b[43m(\u001b[49m\u001b[43m_client_settings\u001b[49m\u001b[43m)\u001b[49m\n\u001b[1;32m    314\u001b[0m     \u001b[38;5;28mself\u001b[39m\u001b[38;5;241m.\u001b[39m_persist_directory \u001b[38;5;241m=\u001b[39m (\n\u001b[1;32m    315\u001b[0m         _client_settings\u001b[38;5;241m.\u001b[39mpersist_directory \u001b[38;5;129;01mor\u001b[39;00m persist_directory\n\u001b[1;32m    316\u001b[0m     )\n\u001b[1;32m    318\u001b[0m \u001b[38;5;28mself\u001b[39m\u001b[38;5;241m.\u001b[39m_embedding_function \u001b[38;5;241m=\u001b[39m embedding_function\n",
      "File \u001b[0;32m~/Documents/Projects/rag-local/.venv/lib/python3.12/site-packages/chromadb/__init__.py:334\u001b[0m, in \u001b[0;36mClient\u001b[0;34m(settings, tenant, database)\u001b[0m\n\u001b[1;32m      0\u001b[0m <Error retrieving source code with stack_data see ipython/ipython#13598>\n",
      "File \u001b[0;32m~/Documents/Projects/rag-local/.venv/lib/python3.12/site-packages/chromadb/api/client.py:56\u001b[0m, in \u001b[0;36m__init__\u001b[0;34m(self, tenant, database, settings)\u001b[0m\n",
      "File \u001b[0;32m~/Documents/Projects/rag-local/.venv/lib/python3.12/site-packages/chromadb/api/shared_system_client.py:19\u001b[0m, in \u001b[0;36m__init__\u001b[0;34m(self, settings)\u001b[0m\n",
      "File \u001b[0;32m~/Documents/Projects/rag-local/.venv/lib/python3.12/site-packages/chromadb/api/shared_system_client.py:32\u001b[0m, in \u001b[0;36m_create_system_if_not_exists\u001b[0;34m(cls, identifier, settings)\u001b[0m\n",
      "File \u001b[0;32m~/Documents/Projects/rag-local/.venv/lib/python3.12/site-packages/chromadb/config.py:425\u001b[0m, in \u001b[0;36mstart\u001b[0;34m(self)\u001b[0m\n\u001b[1;32m      0\u001b[0m <Error retrieving source code with stack_data see ipython/ipython#13598>\n",
      "File \u001b[0;32m~/Documents/Projects/rag-local/.venv/lib/python3.12/site-packages/chromadb/telemetry/opentelemetry/__init__.py:146\u001b[0m, in \u001b[0;36mtrace_method.<locals>.decorator.<locals>.wrapper\u001b[0;34m(*args, **kwargs)\u001b[0m\n\u001b[1;32m    144\u001b[0m \u001b[38;5;28;01mglobal\u001b[39;00m tracer, granularity\n\u001b[1;32m    145\u001b[0m \u001b[38;5;28;01mif\u001b[39;00m trace_granularity \u001b[38;5;241m<\u001b[39m granularity:\n\u001b[0;32m--> 146\u001b[0m     \u001b[38;5;28;01mreturn\u001b[39;00m \u001b[43mf\u001b[49m\u001b[43m(\u001b[49m\u001b[38;5;241;43m*\u001b[39;49m\u001b[43margs\u001b[49m\u001b[43m,\u001b[49m\u001b[43m \u001b[49m\u001b[38;5;241;43m*\u001b[39;49m\u001b[38;5;241;43m*\u001b[39;49m\u001b[43mkwargs\u001b[49m\u001b[43m)\u001b[49m\n\u001b[1;32m    147\u001b[0m \u001b[38;5;28;01mif\u001b[39;00m \u001b[38;5;129;01mnot\u001b[39;00m tracer:\n\u001b[1;32m    148\u001b[0m     \u001b[38;5;28;01mreturn\u001b[39;00m f(\u001b[38;5;241m*\u001b[39margs, \u001b[38;5;241m*\u001b[39m\u001b[38;5;241m*\u001b[39mkwargs)\n",
      "File \u001b[0;32m~/Documents/Projects/rag-local/.venv/lib/python3.12/site-packages/chromadb/db/impl/sqlite.py:109\u001b[0m, in \u001b[0;36mstart\u001b[0;34m(self)\u001b[0m\n\u001b[1;32m      0\u001b[0m <Error retrieving source code with stack_data see ipython/ipython#13598>\n",
      "File \u001b[0;32m/usr/lib/python3.12/functools.py:995\u001b[0m, in \u001b[0;36mcached_property.__get__\u001b[0;34m(self, instance, owner)\u001b[0m\n\u001b[1;32m    993\u001b[0m val \u001b[38;5;241m=\u001b[39m cache\u001b[38;5;241m.\u001b[39mget(\u001b[38;5;28mself\u001b[39m\u001b[38;5;241m.\u001b[39mattrname, _NOT_FOUND)\n\u001b[1;32m    994\u001b[0m \u001b[38;5;28;01mif\u001b[39;00m val \u001b[38;5;129;01mis\u001b[39;00m _NOT_FOUND:\n\u001b[0;32m--> 995\u001b[0m     val \u001b[38;5;241m=\u001b[39m \u001b[38;5;28;43mself\u001b[39;49m\u001b[38;5;241;43m.\u001b[39;49m\u001b[43mfunc\u001b[49m\u001b[43m(\u001b[49m\u001b[43minstance\u001b[49m\u001b[43m)\u001b[49m\n\u001b[1;32m    996\u001b[0m     \u001b[38;5;28;01mtry\u001b[39;00m:\n\u001b[1;32m    997\u001b[0m         cache[\u001b[38;5;28mself\u001b[39m\u001b[38;5;241m.\u001b[39mattrname] \u001b[38;5;241m=\u001b[39m val\n",
      "File \u001b[0;32m~/Documents/Projects/rag-local/.venv/lib/python3.12/site-packages/chromadb/db/mixins/embeddings_queue.py:464\u001b[0m, in \u001b[0;36mconfig\u001b[0;34m(self)\u001b[0m\n\u001b[1;32m      0\u001b[0m <Error retrieving source code with stack_data see ipython/ipython#13598>\n",
      "\u001b[0;31mOperationalError\u001b[0m: no such table: embeddings_queue_config"
     ]
    }
   ],
   "source": [
    "import os\n",
    "from langchain_openai.embeddings import AzureOpenAIEmbeddings\n",
    "from config import azure_openai_embedding_deployment\n",
    "from langchain_chroma import Chroma\n",
    "from config import azure_openai_key, azure_openai_endpoint, azure_openai_api_version\n",
    "import os\n",
    "\n",
    "os.environ[\"AZURE_OPENAI_API_KEY\"] = azure_openai_key\n",
    "os.environ[\"AZURE_OPENAI_ENDPOINT\"] = azure_openai_endpoint\n",
    "os.environ[\"AZURE_OPENAI_API_VERSION\"] = azure_openai_api_version\n",
    "\n",
    "persist_directory = \"chroma\"\n",
    "\n",
    "embeddings = AzureOpenAIEmbeddings(\n",
    "    deployment=azure_openai_embedding_deployment,\n",
    "    chunk_size=1024\n",
    ")\n",
    "\n",
    "if not os.path.exists(persist_directory):\n",
    "    os.makedirs(persist_directory)\n",
    "\n",
    "# vectorstore = Chroma.from_documents(texts, embeddings, persist_directory=persist_directory)\n",
    "vectorstore = Chroma.from_documents(chunks, embeddings, persist_directory=persist_directory)\n",
    "# db = Chroma()\n",
    "# db.from_documents"
   ]
  },
  {
   "cell_type": "markdown",
   "metadata": {},
   "source": [
    "Create persist folder for reusing model"
   ]
  },
  {
   "cell_type": "code",
   "execution_count": 74,
   "metadata": {},
   "outputs": [
    {
     "name": "stdout",
     "output_type": "stream",
     "text": [
      "---Відповідь---\n",
      "Сталий розвиток можна характеризувати як модель розвитку або концепцію, яка передбачає підтримку довкілля, не порушуючи його.\n",
      "\n",
      "---Пояснення---\n",
      "В контексті української мови сталий розвиток часто перекладають як збалансований, стійкий або підтримуваний розвиток. Основна ідея полягає в підтримуваності, а не сталість.\n",
      "\n",
      "---Думки---\n",
      "Поняття сталого розвитку включає в себе екологічну підтримку, економічну ефективність та соціальну справедливість.\n",
      "\n",
      "[Document(metadata={'source': 'data/lect_1/yt_lect_1.txt'}, page_content=\"довкілля який підтримує людину так не порушуючи його і відповідно так склалося що в українській мові існує багато різних А варіацій як перекласти правда не жодного коректного тобто то у нас ви можете зустріти переклади збалансований розвиток а сталий розвиток стійкий розвиток останні Ну можливо 5 тире 100 років в державних документах так залишився термін сталий розвиток тому ми будемо притримуватись саме такої термінології але ви повинні розуміти що там не мова про сталість мова про підтримуваність це не тільки проблема будемо говорити слов'янських мова але багатьох інших тому що термін там скажімо умовно 20 30 років тому назад був досить новий тому навіть скажімо там у французьких документах Чи італійських документах Ви можете бачити зараз на на слайді це також мало різний різний переклад який не передавав той сенс В який в нього вкладали Ну будемо говорити розробники ідеологи сталого розвитку далі що стосується власне а а що ж таке сталий розвиток А це можна характеризувати як модель розвитку як концепцію\"), Document(metadata={'source': 'data/lect_1/yt_lect_1.txt'}, page_content=\"довкілля який підтримує людину так не порушуючи його і відповідно так склалося що в українській мові існує багато різних А варіацій як перекласти правда не жодного коректного тобто то у нас ви можете зустріти переклади збалансований розвиток а сталий розвиток стійкий розвиток останні Ну можливо 5 тире 100 років в державних документах так залишився термін сталий розвиток тому ми будемо притримуватись саме такої термінології але ви повинні розуміти що там не мова про сталість мова про підтримуваність це не тільки проблема будемо говорити слов'янських мова але багатьох інших тому що термін там скажімо умовно 20 30 років тому назад був досить новий тому навіть скажімо там у французьких документах Чи італійських документах Ви можете бачити зараз на на слайді це також мало різний різний переклад який не передавав той сенс В який в нього вкладали Ну будемо говорити розробники ідеологи сталого розвитку далі що стосується власне а а що ж таке сталий розвиток А це можна характеризувати як модель розвитку як концепцію\"), Document(metadata={'source': 'data/lect_1/pdf_lect_1.txt'}, page_content='Page 1:\\n\\nНОРМАТИВНА ДИСЦИПЛІНА\\n\\nЗ ПРОБЛЕМ СТАЛОГО РОЗВИТКУ\\n\\nnou, IPKArTAPEW\\n\\nlpuna Mukonaibna\\n\\n--------------------------------------------------\\n\\nPage 2:\\n\\nз\\n\\n——_ \" М\\n\\n—\\n\\nУ М\\n\\n:\\n\\n— + = \"РА\\n\\n| нні http:/ РО\\n\\nW201 Bdto/Tissues, htm!\\n\\nВСТУПІ ДО ДИСЦИПЛІНИ!\\n\\nBr = win 3a6 Tpa ачан ПУ oct? абруднення ха М 6 біорі ня 9 39\" пені\" довкілля ov or Різноманіття oO ца а yer S се я Якість і S «мед Змі . з бал Інювання доступність Ліси Е в клімату питної води З 7] ot © Снаже ння «ма ва ena Озоно хе чало gen?\" ка Boro Ere схомо шару Здоров\\'я Patch Природні в людини ру . лиха іДходи ад Сільс фіна Чна vt? Pee en дари с B Kons. 8 а oc - ес? о Працевлаштування\\n\\n--------------------------------------------------\\n\\nPage 3:\\n\\nТЕРМІНОЛОГІЯ\\n\\nСТАЛИЙ POSBUTOK\\n\\nBUSHAYEHAA\\n\\nФр. «Developpment durable»\\n\\nдовготривалий розвиток\\n\\nHops. «En holdbar utvickling»\\n\\nміцний розвиток\\n\\nIt. «5 міїирро sostenibile»\\n\\nрозвиток, що заслуговує підтримки\\n\\nАнгл. «Sustainable development»\\n\\nпідтримуваний розвиток\\n\\nРос. «Устойчивоге развитие»'), Document(metadata={'source': 'data/lect_1/pdf_lect_1_ocr.txt'}, page_content='Page 1:\\n\\nНОРМАТИВНА ДИСЦИПЛІНА\\n\\nЗ ПРОБЛЕМ СТАЛОГО РОЗВИТКУ\\n\\nnou, IPKArTAPEW\\n\\nlpuna Mukonaibna\\n\\n--------------------------------------------------\\n\\nPage 2:\\n\\nз\\n\\n——_ \" М\\n\\n—\\n\\nУ М\\n\\n:\\n\\n— + = \"РА\\n\\n| нні http:/ РО\\n\\nW201 Bdto/Tissues, htm!\\n\\nВСТУПІ ДО ДИСЦИПЛІНИ!\\n\\nBr = win 3a6 Tpa ачан ПУ oct? абруднення ха М 6 біорі ня 9 39\" пені\" довкілля ov or Різноманіття oO ца а yer S се я Якість і S «мед Змі . з бал Інювання доступність Ліси Е в клімату питної води З 7] ot © Снаже ння «ма ва ena Озоно хе чало gen?\" ка Boro Ere схомо шару Здоров\\'я Patch Природні в людини ру . лиха іДходи ад Сільс фіна Чна vt? Pee en дари с B Kons. 8 а oc - ес? о Працевлаштування\\n\\n--------------------------------------------------\\n\\nPage 3:\\n\\nТЕРМІНОЛОГІЯ\\n\\nСТАЛИЙ POSBUTOK\\n\\nBUSHAYEHAA\\n\\nФр. «Developpment durable»\\n\\nдовготривалий розвиток\\n\\nHops. «En holdbar utvickling»\\n\\nміцний розвиток\\n\\nIt. «5 міїирро sostenibile»\\n\\nрозвиток, що заслуговує підтримки\\n\\nАнгл. «Sustainable development»\\n\\nпідтримуваний розвиток\\n\\nРос. «Устойчивоге развитие»')]\n"
     ]
    }
   ],
   "source": [
    "from langchain_openai import AzureChatOpenAI\n",
    "from langchain.prompts import PromptTemplate\n",
    "from langchain.chains import RetrievalQA\n",
    "from config import azure_openai_gpt_deployment, azure_openai_api_version\n",
    "from langchain.embeddings import AzureOpenAIEmbeddings\n",
    "\n",
    "\n",
    "persist_directory = \"chromaDB\"\n",
    "\n",
    "embeddings = AzureOpenAIEmbeddings(\n",
    "    deployment=azure_openai_embedding_deployment,\n",
    "    chunk_size=1024\n",
    ")\n",
    "\n",
    "vectorstore = Chroma(persist_directory=persist_directory, embedding_function=embeddings)\n",
    "\n",
    "gpt = AzureChatOpenAI(\n",
    "    deployment_name=azure_openai_gpt_deployment,\n",
    "    api_version=azure_openai_api_version\n",
    ")\n",
    "\n",
    "qa_chain = RetrievalQA.from_chain_type(\n",
    "    llm=gpt,\n",
    "    chain_type=\"stuff\",\n",
    "    retriever=vectorstore.as_retriever(),\n",
    "    return_source_documents=True\n",
    ")\n",
    "\n",
    "prompt = \"\"\"\n",
    "System:\n",
    "```\n",
    "You are a search assistant.\n",
    "You are an expert in \"Consistent evolvement\".\n",
    "You will be asked a question.\n",
    "If the question comes with answer choicec, you should choose the correct one and explain why.\n",
    "Provide the full text from the retrieved documents that supports your answer.\n",
    "All information will be provided in Ukrainian language.\n",
    "Answer in Ukrainian language.\n",
    "You should not use any external resources or make up information.\n",
    "If you cannot find the answer, you should say \n",
    "\"Відповіді не знайдено. Використаю зовнішні ресурси\" \n",
    "and give an answer that you find online.\n",
    "You should think step by step and provide your thought process after the answer.\n",
    "When you wrote 10 words in 1 line, you should start a new line.\n",
    "Every line should contain no more than 10 words.\n",
    "Example:\n",
    "```\n",
    "---Відповідь---\n",
    "...\n",
    "---Пояснення---\n",
    "...\n",
    "---Думки---\n",
    "...\n",
    "```\n",
    "\n",
    "```\n",
    "\"\"\"\n",
    "\n",
    "\n",
    "# Example query\n",
    "user = \"\"\"\n",
    "User:\n",
    "```\n",
    "Що таке сталий розвиток?\n",
    "```\n",
    "\"\"\"\n",
    "query = prompt + user + \"Answer:\"\n",
    "answer = qa_chain({\"query\": query})\n",
    "print(answer.get(\"result\"))\n",
    "print()\n",
    "print(answer.get(\"source_documents\"))"
   ]
  },
  {
   "cell_type": "markdown",
   "metadata": {},
   "source": [
    "Load chatGPT model"
   ]
  },
  {
   "cell_type": "markdown",
   "metadata": {},
   "source": [
    "Create prompt"
   ]
  },
  {
   "cell_type": "code",
   "execution_count": 20,
   "metadata": {},
   "outputs": [],
   "source": [
    "\n",
    "query = \"\"\"\n",
    "    Що таке сталий розвиток?\n",
    "\"\"\"\n",
    "result = qa_chain.run(query)\n",
    "\n",
    "print(result)"
   ]
  }
 ],
 "metadata": {
  "kernelspec": {
   "display_name": ".venv",
   "language": "python",
   "name": "python3"
  },
  "language_info": {
   "codemirror_mode": {
    "name": "ipython",
    "version": 3
   },
   "file_extension": ".py",
   "mimetype": "text/x-python",
   "name": "python",
   "nbconvert_exporter": "python",
   "pygments_lexer": "ipython3",
   "version": "3.12.3"
  }
 },
 "nbformat": 4,
 "nbformat_minor": 2
}
